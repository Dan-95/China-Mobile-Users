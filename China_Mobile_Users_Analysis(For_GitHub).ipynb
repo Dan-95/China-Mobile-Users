{
 "cells": [
  {
   "cell_type": "markdown",
   "metadata": {},
   "source": [
    "### 1. Import Necessary Modules and Import data"
   ]
  },
  {
   "cell_type": "code",
   "execution_count": 34,
   "metadata": {
    "scrolled": false
   },
   "outputs": [
    {
     "name": "stderr",
     "output_type": "stream",
     "text": [
      "C:\\Users\\ydzco\\Anaconda3\\lib\\site-packages\\sklearn\\externals\\six.py:31: DeprecationWarning: The module is deprecated in version 0.21 and will be removed in version 0.23 since we've dropped support for Python 2.7. Please rely on the official version of six (https://pypi.org/project/six/).\n",
      "  \"(https://pypi.org/project/six/).\", DeprecationWarning)\n"
     ]
    }
   ],
   "source": [
    "import pandas as pd\n",
    "import numpy as np\n",
    "import matplotlib.pyplot as plt\n",
    "import seaborn as sns\n",
    "from sklearn.tree import DecisionTreeClassifier\n",
    "from sklearn.model_selection import train_test_split\n",
    "from sklearn.tree import plot_tree\n",
    "import graphviz\n",
    "from IPython.display import Image\n",
    "from sklearn import tree\n",
    "import pydotplus\n",
    "from sklearn.externals.six import StringIO"
   ]
  },
  {
   "cell_type": "code",
   "execution_count": 2,
   "metadata": {
    "collapsed": true
   },
   "outputs": [
    {
     "data": {
      "text/html": [
       "<div>\n",
       "<style scoped>\n",
       "    .dataframe tbody tr th:only-of-type {\n",
       "        vertical-align: middle;\n",
       "    }\n",
       "\n",
       "    .dataframe tbody tr th {\n",
       "        vertical-align: top;\n",
       "    }\n",
       "\n",
       "    .dataframe thead th {\n",
       "        text-align: right;\n",
       "    }\n",
       "</style>\n",
       "<table border=\"1\" class=\"dataframe\">\n",
       "  <thead>\n",
       "    <tr style=\"text-align: right;\">\n",
       "      <th></th>\n",
       "      <th>device_id</th>\n",
       "      <th>gender</th>\n",
       "      <th>age</th>\n",
       "      <th>age_group</th>\n",
       "      <th>phone_brand</th>\n",
       "      <th>device_model</th>\n",
       "      <th>timestamps</th>\n",
       "      <th>longitude</th>\n",
       "      <th>latitude</th>\n",
       "    </tr>\n",
       "  </thead>\n",
       "  <tbody>\n",
       "    <tr>\n",
       "      <th>0</th>\n",
       "      <td>-9222956879900151005</td>\n",
       "      <td>M</td>\n",
       "      <td>36</td>\n",
       "      <td>M32-38</td>\n",
       "      <td>三星</td>\n",
       "      <td>Galaxy Note 2</td>\n",
       "      <td>2016-05-06 15:31:56</td>\n",
       "      <td>113.24</td>\n",
       "      <td>23.19</td>\n",
       "    </tr>\n",
       "    <tr>\n",
       "      <th>1</th>\n",
       "      <td>-9222956879900151005</td>\n",
       "      <td>M</td>\n",
       "      <td>36</td>\n",
       "      <td>M32-38</td>\n",
       "      <td>三星</td>\n",
       "      <td>Galaxy Note 2</td>\n",
       "      <td>2016-05-06 15:32:26</td>\n",
       "      <td>113.24</td>\n",
       "      <td>23.19</td>\n",
       "    </tr>\n",
       "    <tr>\n",
       "      <th>2</th>\n",
       "      <td>-9222956879900151005</td>\n",
       "      <td>M</td>\n",
       "      <td>36</td>\n",
       "      <td>M32-38</td>\n",
       "      <td>三星</td>\n",
       "      <td>Galaxy Note 2</td>\n",
       "      <td>2016-05-06 15:32:54</td>\n",
       "      <td>113.24</td>\n",
       "      <td>23.19</td>\n",
       "    </tr>\n",
       "    <tr>\n",
       "      <th>3</th>\n",
       "      <td>-9222956879900151005</td>\n",
       "      <td>M</td>\n",
       "      <td>36</td>\n",
       "      <td>M32-38</td>\n",
       "      <td>三星</td>\n",
       "      <td>Galaxy Note 2</td>\n",
       "      <td>2016-05-06 15:33:24</td>\n",
       "      <td>113.24</td>\n",
       "      <td>23.19</td>\n",
       "    </tr>\n",
       "    <tr>\n",
       "      <th>4</th>\n",
       "      <td>-9222956879900151005</td>\n",
       "      <td>M</td>\n",
       "      <td>36</td>\n",
       "      <td>M32-38</td>\n",
       "      <td>三星</td>\n",
       "      <td>Galaxy Note 2</td>\n",
       "      <td>2016-05-06 15:33:50</td>\n",
       "      <td>113.24</td>\n",
       "      <td>23.19</td>\n",
       "    </tr>\n",
       "    <tr>\n",
       "      <th>5</th>\n",
       "      <td>-9222956879900151005</td>\n",
       "      <td>M</td>\n",
       "      <td>36</td>\n",
       "      <td>M32-38</td>\n",
       "      <td>三星</td>\n",
       "      <td>Galaxy Note 2</td>\n",
       "      <td>2016-05-06 15:34:16</td>\n",
       "      <td>0.00</td>\n",
       "      <td>0.00</td>\n",
       "    </tr>\n",
       "    <tr>\n",
       "      <th>6</th>\n",
       "      <td>-9222956879900151005</td>\n",
       "      <td>M</td>\n",
       "      <td>36</td>\n",
       "      <td>M32-38</td>\n",
       "      <td>三星</td>\n",
       "      <td>Galaxy Note 2</td>\n",
       "      <td>2016-05-06 15:34:19</td>\n",
       "      <td>113.24</td>\n",
       "      <td>23.19</td>\n",
       "    </tr>\n",
       "    <tr>\n",
       "      <th>7</th>\n",
       "      <td>-9222956879900151005</td>\n",
       "      <td>M</td>\n",
       "      <td>36</td>\n",
       "      <td>M32-38</td>\n",
       "      <td>三星</td>\n",
       "      <td>Galaxy Note 2</td>\n",
       "      <td>2016-05-06 15:34:42</td>\n",
       "      <td>0.00</td>\n",
       "      <td>0.00</td>\n",
       "    </tr>\n",
       "    <tr>\n",
       "      <th>8</th>\n",
       "      <td>-9222956879900151005</td>\n",
       "      <td>M</td>\n",
       "      <td>36</td>\n",
       "      <td>M32-38</td>\n",
       "      <td>三星</td>\n",
       "      <td>Galaxy Note 2</td>\n",
       "      <td>2016-05-06 15:34:54</td>\n",
       "      <td>113.24</td>\n",
       "      <td>23.19</td>\n",
       "    </tr>\n",
       "    <tr>\n",
       "      <th>9</th>\n",
       "      <td>-9222956879900151005</td>\n",
       "      <td>M</td>\n",
       "      <td>36</td>\n",
       "      <td>M32-38</td>\n",
       "      <td>三星</td>\n",
       "      <td>Galaxy Note 2</td>\n",
       "      <td>2016-05-06 15:34:58</td>\n",
       "      <td>113.24</td>\n",
       "      <td>23.19</td>\n",
       "    </tr>\n",
       "  </tbody>\n",
       "</table>\n",
       "</div>"
      ],
      "text/plain": [
       "             device_id gender  age age_group phone_brand   device_model  \\\n",
       "0 -9222956879900151005      M   36    M32-38          三星  Galaxy Note 2   \n",
       "1 -9222956879900151005      M   36    M32-38          三星  Galaxy Note 2   \n",
       "2 -9222956879900151005      M   36    M32-38          三星  Galaxy Note 2   \n",
       "3 -9222956879900151005      M   36    M32-38          三星  Galaxy Note 2   \n",
       "4 -9222956879900151005      M   36    M32-38          三星  Galaxy Note 2   \n",
       "5 -9222956879900151005      M   36    M32-38          三星  Galaxy Note 2   \n",
       "6 -9222956879900151005      M   36    M32-38          三星  Galaxy Note 2   \n",
       "7 -9222956879900151005      M   36    M32-38          三星  Galaxy Note 2   \n",
       "8 -9222956879900151005      M   36    M32-38          三星  Galaxy Note 2   \n",
       "9 -9222956879900151005      M   36    M32-38          三星  Galaxy Note 2   \n",
       "\n",
       "            timestamps  longitude  latitude  \n",
       "0  2016-05-06 15:31:56     113.24     23.19  \n",
       "1  2016-05-06 15:32:26     113.24     23.19  \n",
       "2  2016-05-06 15:32:54     113.24     23.19  \n",
       "3  2016-05-06 15:33:24     113.24     23.19  \n",
       "4  2016-05-06 15:33:50     113.24     23.19  \n",
       "5  2016-05-06 15:34:16       0.00      0.00  \n",
       "6  2016-05-06 15:34:19     113.24     23.19  \n",
       "7  2016-05-06 15:34:42       0.00      0.00  \n",
       "8  2016-05-06 15:34:54     113.24     23.19  \n",
       "9  2016-05-06 15:34:58     113.24     23.19  "
      ]
     },
     "execution_count": 2,
     "metadata": {},
     "output_type": "execute_result"
    }
   ],
   "source": [
    "data = pd.read_csv('mobileusers.csv')\n",
    "data.head(10)"
   ]
  },
  {
   "cell_type": "markdown",
   "metadata": {},
   "source": [
    "### 2. Data Description"
   ]
  },
  {
   "cell_type": "code",
   "execution_count": 8,
   "metadata": {},
   "outputs": [
    {
     "data": {
      "text/plain": [
       "(1203537, 9)"
      ]
     },
     "execution_count": 8,
     "metadata": {},
     "output_type": "execute_result"
    }
   ],
   "source": [
    "###Check how many columns and datatypes in this datasets, change types if needed\n",
    "data.shape"
   ]
  },
  {
   "cell_type": "code",
   "execution_count": 9,
   "metadata": {},
   "outputs": [
    {
     "data": {
      "text/plain": [
       "device_id         int64\n",
       "gender           object\n",
       "age               int64\n",
       "age_group        object\n",
       "phone_brand      object\n",
       "device_model     object\n",
       "timestamps       object\n",
       "longitude       float64\n",
       "latitude        float64\n",
       "dtype: object"
      ]
     },
     "execution_count": 9,
     "metadata": {},
     "output_type": "execute_result"
    }
   ],
   "source": [
    "data.dtypes"
   ]
  },
  {
   "cell_type": "code",
   "execution_count": 18,
   "metadata": {},
   "outputs": [],
   "source": [
    "data['timestamps'] = data['timestamps'].astype('datetime64')"
   ]
  },
  {
   "cell_type": "code",
   "execution_count": 15,
   "metadata": {},
   "outputs": [
    {
     "data": {
      "text/plain": [
       "23309"
      ]
     },
     "execution_count": 15,
     "metadata": {},
     "output_type": "execute_result"
    }
   ],
   "source": [
    "##### Check how many unique ids in this datasets\n",
    "##### Check how many unique phone_brands in this datasets\n",
    "##### Check how many males and females\n",
    "numid = list(data['device_id'].unique())   \n",
    "len(numid)"
   ]
  },
  {
   "cell_type": "code",
   "execution_count": 16,
   "metadata": {},
   "outputs": [
    {
     "data": {
      "text/plain": [
       "90"
      ]
     },
     "execution_count": 16,
     "metadata": {},
     "output_type": "execute_result"
    }
   ],
   "source": [
    "numbrand = list(data['phone_brand'].unique())\n",
    "len(numbrand)"
   ]
  },
  {
   "cell_type": "code",
   "execution_count": 17,
   "metadata": {},
   "outputs": [
    {
     "data": {
      "text/plain": [
       "gender\n",
       "F     8048\n",
       "M    15261\n",
       "Name: device_id, dtype: int64"
      ]
     },
     "execution_count": 17,
     "metadata": {},
     "output_type": "execute_result"
    }
   ],
   "source": [
    "data.groupby('gender')['device_id'].nunique()"
   ]
  },
  {
   "cell_type": "code",
   "execution_count": null,
   "metadata": {},
   "outputs": [],
   "source": [
    "##### Null Value Check and Max/Min Value Check"
   ]
  },
  {
   "cell_type": "code",
   "execution_count": 19,
   "metadata": {},
   "outputs": [
    {
     "name": "stdout",
     "output_type": "stream",
     "text": [
      "The column                 device_id does not have null value\n",
      "The column                    gender does not have null value\n",
      "The column                       age does not have null value\n",
      "The column                 age_group does not have null value\n",
      "The column               phone_brand has null value\n",
      "The column              device_model has null value\n",
      "The column                timestamps does not have null value\n",
      "The column                 longitude does not have null value\n",
      "The column                  latitude does not have null value\n"
     ]
    }
   ],
   "source": [
    "cols = data.columns.to_list()\n",
    "for i in cols:\n",
    "    if data[i].isnull().values.any() == True:\n",
    "        print('The column %25s has null value' %i)\n",
    "    else:\n",
    "        print('The column %25s does not have null value' %i )"
   ]
  },
  {
   "cell_type": "code",
   "execution_count": 20,
   "metadata": {},
   "outputs": [
    {
     "name": "stdout",
     "output_type": "stream",
     "text": [
      "For the column age :\n",
      "The min value of age is 11\n",
      "the max value of age is 89\n",
      "\n",
      "\n",
      "For the column timestamps :\n",
      "The min value of timestamps is 2016-04-30 23:52:24\n",
      "the max value of timestamps is 2016-05-08 00:00:08\n",
      "\n",
      "\n",
      "For the column longitude :\n",
      "The min value of longitude is -180.0\n",
      "the max value of longitude is 151.18\n",
      "\n",
      "\n",
      "For the column latitude :\n",
      "The min value of latitude is -33.8\n",
      "the max value of latitude is 53.64\n",
      "\n",
      "\n"
     ]
    }
   ],
   "source": [
    "Continues = ['age','timestamps','longitude','latitude']\n",
    "for i in Continues:\n",
    "    print ('For the column', i,':')\n",
    "    print ('The min value of', i, 'is',data[i].min())\n",
    "    print ('the max value of', i, 'is', data[i].max())\n",
    "    print('\\n')"
   ]
  },
  {
   "cell_type": "markdown",
   "metadata": {},
   "source": [
    "### 3. Exploratory data analysis"
   ]
  },
  {
   "cell_type": "markdown",
   "metadata": {},
   "source": [
    "China Mobile Users Age Distribution "
   ]
  },
  {
   "cell_type": "code",
   "execution_count": 22,
   "metadata": {},
   "outputs": [],
   "source": [
    "agedata =data.drop_duplicates(subset = [\"device_id\",\"gender\"])"
   ]
  },
  {
   "cell_type": "code",
   "execution_count": 23,
   "metadata": {},
   "outputs": [
    {
     "data": {
      "text/plain": [
       "<seaborn.axisgrid.FacetGrid at 0x26292e05e10>"
      ]
     },
     "execution_count": 23,
     "metadata": {},
     "output_type": "execute_result"
    },
    {
     "data": {
      "image/png": "[encoded data removed]",
      "text/plain": [
       "<Figure size 432x216 with 2 Axes>"
      ]
     },
     "metadata": {
      "needs_background": "light"
     },
     "output_type": "display_data"
    }
   ],
   "source": [
    "agegraph = sns.FacetGrid(agedata, col='gender')\n",
    "agegraph.map(plt.hist, 'age', bins=100)"
   ]
  },
  {
   "cell_type": "markdown",
   "metadata": {},
   "source": [
    "China Mobile Users Brands preference"
   ]
  },
  {
   "cell_type": "code",
   "execution_count": 24,
   "metadata": {
    "scrolled": true
   },
   "outputs": [
    {
     "data": {
      "text/plain": [
       "Text(0.5, 1.0, 'Top 10 Popular Phone Brand')"
      ]
     },
     "execution_count": 24,
     "metadata": {},
     "output_type": "execute_result"
    },
    {
     "data": {
      "image/png": "[encoded data removed]",
      "text/plain": [
       "<Figure size 432x288 with 1 Axes>"
      ]
     },
     "metadata": {
      "needs_background": "light"
     },
     "output_type": "display_data"
    }
   ],
   "source": [
    "branddata = data.drop_duplicates(subset = [\"device_id\",\"phone_brand\"])\n",
    "plt.rcParams['font.sans-serif'] = ['SimHei']  # solve the garbled output issue\n",
    "plt.rcParams['axes.unicode_minus'] = False \n",
    "sns.countplot(x=\"phone_brand\", data=branddata,hue = 'gender'\n",
    "              , palette=\"Blues_d\",\n",
    "              order=branddata.phone_brand.value_counts().iloc[:10].index).set_title(\"Top 10 Popular Phone Brand\")"
   ]
  },
  {
   "cell_type": "markdown",
   "metadata": {},
   "source": [
    "Daily Online Users Trend"
   ]
  },
  {
   "cell_type": "code",
   "execution_count": 25,
   "metadata": {
    "scrolled": true
   },
   "outputs": [
    {
     "data": {
      "image/png": "[encoded data removed]",
      "text/plain": [
       "<Figure size 1152x288 with 1 Axes>"
      ]
     },
     "metadata": {
      "needs_background": "light"
     },
     "output_type": "display_data"
    }
   ],
   "source": [
    "data['Active_timepoint'] = data['timestamps'].apply(lambda x : x.strftime('%H'))\n",
    "activeuser = data.drop_duplicates(subset = [\"device_id\",\"Active_timepoint\"])\n",
    "cnt = activeuser.groupby('Active_timepoint')['device_id'].count()\n",
    "activeuser_picture = cnt.reset_index()\n",
    "plt.figure(figsize=(16, 4))\n",
    "plt.title(\"Active_users\")\n",
    "plt.plot(activeuser_picture['Active_timepoint'], activeuser_picture['device_id'], label='online users', linewidth=1, color='k', marker='o',\n",
    "         markerfacecolor='blue', markersize=5)\n",
    "plt.xlabel('TimePoint')\n",
    "plt.ylabel('User_Number')\n",
    "for a, b in zip(activeuser_picture['Active_timepoint'], activeuser_picture['device_id']):\n",
    "    plt.text(a, b, b, ha='center', va='bottom', fontsize=10)\n",
    "    \n",
    "plt.legend()\n",
    "plt.show()"
   ]
  },
  {
   "cell_type": "markdown",
   "metadata": {},
   "source": [
    "###  4.  Feature Engineering"
   ]
  },
  {
   "cell_type": "code",
   "execution_count": 26,
   "metadata": {},
   "outputs": [],
   "source": [
    "data['genderint'] = data.gender.apply(lambda x: 1 if x == 'M' else 0)"
   ]
  },
  {
   "cell_type": "code",
   "execution_count": 27,
   "metadata": {},
   "outputs": [
    {
     "data": {
      "text/html": [
       "<div>\n",
       "<style scoped>\n",
       "    .dataframe tbody tr th:only-of-type {\n",
       "        vertical-align: middle;\n",
       "    }\n",
       "\n",
       "    .dataframe tbody tr th {\n",
       "        vertical-align: top;\n",
       "    }\n",
       "\n",
       "    .dataframe thead th {\n",
       "        text-align: right;\n",
       "    }\n",
       "</style>\n",
       "<table border=\"1\" class=\"dataframe\">\n",
       "  <thead>\n",
       "    <tr style=\"text-align: right;\">\n",
       "      <th></th>\n",
       "      <th>device_id</th>\n",
       "      <th>gender</th>\n",
       "      <th>age</th>\n",
       "      <th>age_group</th>\n",
       "      <th>phone_brand</th>\n",
       "      <th>device_model</th>\n",
       "      <th>timestamps</th>\n",
       "      <th>longitude</th>\n",
       "      <th>latitude</th>\n",
       "      <th>Active_timepoint</th>\n",
       "      <th>genderint</th>\n",
       "    </tr>\n",
       "  </thead>\n",
       "  <tbody>\n",
       "    <tr>\n",
       "      <th>1057</th>\n",
       "      <td>-9198513807097378193</td>\n",
       "      <td>M</td>\n",
       "      <td>22</td>\n",
       "      <td>M22-</td>\n",
       "      <td>NaN</td>\n",
       "      <td>NaN</td>\n",
       "      <td>2016-05-01 00:46:59</td>\n",
       "      <td>0.0</td>\n",
       "      <td>0.0</td>\n",
       "      <td>00</td>\n",
       "      <td>1</td>\n",
       "    </tr>\n",
       "    <tr>\n",
       "      <th>1058</th>\n",
       "      <td>-9198513807097378193</td>\n",
       "      <td>M</td>\n",
       "      <td>22</td>\n",
       "      <td>M22-</td>\n",
       "      <td>NaN</td>\n",
       "      <td>NaN</td>\n",
       "      <td>2016-05-02 00:23:04</td>\n",
       "      <td>0.0</td>\n",
       "      <td>0.0</td>\n",
       "      <td>00</td>\n",
       "      <td>1</td>\n",
       "    </tr>\n",
       "    <tr>\n",
       "      <th>1059</th>\n",
       "      <td>-9198513807097378193</td>\n",
       "      <td>M</td>\n",
       "      <td>22</td>\n",
       "      <td>M22-</td>\n",
       "      <td>NaN</td>\n",
       "      <td>NaN</td>\n",
       "      <td>2016-05-02 01:27:09</td>\n",
       "      <td>0.0</td>\n",
       "      <td>0.0</td>\n",
       "      <td>01</td>\n",
       "      <td>1</td>\n",
       "    </tr>\n",
       "    <tr>\n",
       "      <th>1060</th>\n",
       "      <td>-9198513807097378193</td>\n",
       "      <td>M</td>\n",
       "      <td>22</td>\n",
       "      <td>M22-</td>\n",
       "      <td>NaN</td>\n",
       "      <td>NaN</td>\n",
       "      <td>2016-05-02 12:03:40</td>\n",
       "      <td>0.0</td>\n",
       "      <td>0.0</td>\n",
       "      <td>12</td>\n",
       "      <td>1</td>\n",
       "    </tr>\n",
       "    <tr>\n",
       "      <th>1061</th>\n",
       "      <td>-9198513807097378193</td>\n",
       "      <td>M</td>\n",
       "      <td>22</td>\n",
       "      <td>M22-</td>\n",
       "      <td>NaN</td>\n",
       "      <td>NaN</td>\n",
       "      <td>2016-05-03 15:04:28</td>\n",
       "      <td>0.0</td>\n",
       "      <td>0.0</td>\n",
       "      <td>15</td>\n",
       "      <td>1</td>\n",
       "    </tr>\n",
       "    <tr>\n",
       "      <th>...</th>\n",
       "      <td>...</td>\n",
       "      <td>...</td>\n",
       "      <td>...</td>\n",
       "      <td>...</td>\n",
       "      <td>...</td>\n",
       "      <td>...</td>\n",
       "      <td>...</td>\n",
       "      <td>...</td>\n",
       "      <td>...</td>\n",
       "      <td>...</td>\n",
       "      <td>...</td>\n",
       "    </tr>\n",
       "    <tr>\n",
       "      <th>1182157</th>\n",
       "      <td>8857408777371994988</td>\n",
       "      <td>M</td>\n",
       "      <td>27</td>\n",
       "      <td>M27-28</td>\n",
       "      <td>NaN</td>\n",
       "      <td>NaN</td>\n",
       "      <td>2016-05-06 17:18:38</td>\n",
       "      <td>0.0</td>\n",
       "      <td>0.0</td>\n",
       "      <td>17</td>\n",
       "      <td>1</td>\n",
       "    </tr>\n",
       "    <tr>\n",
       "      <th>1182158</th>\n",
       "      <td>8857408777371994988</td>\n",
       "      <td>M</td>\n",
       "      <td>27</td>\n",
       "      <td>M27-28</td>\n",
       "      <td>NaN</td>\n",
       "      <td>NaN</td>\n",
       "      <td>2016-05-07 18:09:02</td>\n",
       "      <td>0.0</td>\n",
       "      <td>0.0</td>\n",
       "      <td>18</td>\n",
       "      <td>1</td>\n",
       "    </tr>\n",
       "    <tr>\n",
       "      <th>1195403</th>\n",
       "      <td>9094512285229743128</td>\n",
       "      <td>M</td>\n",
       "      <td>18</td>\n",
       "      <td>M22-</td>\n",
       "      <td>NaN</td>\n",
       "      <td>NaN</td>\n",
       "      <td>2016-05-07 01:22:43</td>\n",
       "      <td>0.0</td>\n",
       "      <td>0.0</td>\n",
       "      <td>01</td>\n",
       "      <td>1</td>\n",
       "    </tr>\n",
       "    <tr>\n",
       "      <th>1195404</th>\n",
       "      <td>9094512285229743128</td>\n",
       "      <td>M</td>\n",
       "      <td>18</td>\n",
       "      <td>M22-</td>\n",
       "      <td>NaN</td>\n",
       "      <td>NaN</td>\n",
       "      <td>2016-05-07 01:25:34</td>\n",
       "      <td>0.0</td>\n",
       "      <td>0.0</td>\n",
       "      <td>01</td>\n",
       "      <td>1</td>\n",
       "    </tr>\n",
       "    <tr>\n",
       "      <th>1201604</th>\n",
       "      <td>9196371203514832504</td>\n",
       "      <td>M</td>\n",
       "      <td>25</td>\n",
       "      <td>M23-26</td>\n",
       "      <td>NaN</td>\n",
       "      <td>NaN</td>\n",
       "      <td>2016-05-03 10:37:09</td>\n",
       "      <td>0.0</td>\n",
       "      <td>0.0</td>\n",
       "      <td>10</td>\n",
       "      <td>1</td>\n",
       "    </tr>\n",
       "  </tbody>\n",
       "</table>\n",
       "<p>4821 rows × 11 columns</p>\n",
       "</div>"
      ],
      "text/plain": [
       "                   device_id gender  age age_group phone_brand device_model  \\\n",
       "1057    -9198513807097378193      M   22      M22-         NaN          NaN   \n",
       "1058    -9198513807097378193      M   22      M22-         NaN          NaN   \n",
       "1059    -9198513807097378193      M   22      M22-         NaN          NaN   \n",
       "1060    -9198513807097378193      M   22      M22-         NaN          NaN   \n",
       "1061    -9198513807097378193      M   22      M22-         NaN          NaN   \n",
       "...                      ...    ...  ...       ...         ...          ...   \n",
       "1182157  8857408777371994988      M   27    M27-28         NaN          NaN   \n",
       "1182158  8857408777371994988      M   27    M27-28         NaN          NaN   \n",
       "1195403  9094512285229743128      M   18      M22-         NaN          NaN   \n",
       "1195404  9094512285229743128      M   18      M22-         NaN          NaN   \n",
       "1201604  9196371203514832504      M   25    M23-26         NaN          NaN   \n",
       "\n",
       "                 timestamps  longitude  latitude Active_timepoint  genderint  \n",
       "1057    2016-05-01 00:46:59        0.0       0.0               00          1  \n",
       "1058    2016-05-02 00:23:04        0.0       0.0               00          1  \n",
       "1059    2016-05-02 01:27:09        0.0       0.0               01          1  \n",
       "1060    2016-05-02 12:03:40        0.0       0.0               12          1  \n",
       "1061    2016-05-03 15:04:28        0.0       0.0               15          1  \n",
       "...                     ...        ...       ...              ...        ...  \n",
       "1182157 2016-05-06 17:18:38        0.0       0.0               17          1  \n",
       "1182158 2016-05-07 18:09:02        0.0       0.0               18          1  \n",
       "1195403 2016-05-07 01:22:43        0.0       0.0               01          1  \n",
       "1195404 2016-05-07 01:25:34        0.0       0.0               01          1  \n",
       "1201604 2016-05-03 10:37:09        0.0       0.0               10          1  \n",
       "\n",
       "[4821 rows x 11 columns]"
      ]
     },
     "execution_count": 27,
     "metadata": {},
     "output_type": "execute_result"
    }
   ],
   "source": [
    "data[data['phone_brand'].isna()]"
   ]
  },
  {
   "cell_type": "code",
   "execution_count": 28,
   "metadata": {},
   "outputs": [],
   "source": [
    "Treedf = data.dropna(subset=['phone_brand', 'device_model'], how='all')"
   ]
  },
  {
   "cell_type": "markdown",
   "metadata": {},
   "source": [
    "### 5. Decision Tree Model Analysis"
   ]
  },
  {
   "cell_type": "markdown",
   "metadata": {},
   "source": [
    "With No limitation"
   ]
  },
  {
   "cell_type": "code",
   "execution_count": 29,
   "metadata": {},
   "outputs": [],
   "source": [
    "factors = ['genderint','age','longitude','latitude']"
   ]
  },
  {
   "cell_type": "code",
   "execution_count": 35,
   "metadata": {},
   "outputs": [
    {
     "data": {
      "text/plain": [
       "DecisionTreeClassifier(class_weight=None, criterion='gini', max_depth=None,\n",
       "                       max_features=None, max_leaf_nodes=None,\n",
       "                       min_impurity_decrease=0.0, min_impurity_split=None,\n",
       "                       min_samples_leaf=1, min_samples_split=2,\n",
       "                       min_weight_fraction_leaf=0.0, presort=False,\n",
       "                       random_state=None, splitter='best')"
      ]
     },
     "execution_count": 35,
     "metadata": {},
     "output_type": "execute_result"
    }
   ],
   "source": [
    "X = Treedf[factors]\n",
    "y = Treedf['phone_brand']\n",
    "X_train, X_test, y_train, y_test = train_test_split(X, y, random_state=0, train_size=0.8)\n",
    "tree_clf = DecisionTreeClassifier()\n",
    "tree_clf.fit(X_train, y_train)"
   ]
  },
  {
   "cell_type": "code",
   "execution_count": 36,
   "metadata": {
    "scrolled": true
   },
   "outputs": [
    {
     "data": {
      "text/plain": [
       "0.77492669233304"
      ]
     },
     "execution_count": 36,
     "metadata": {},
     "output_type": "execute_result"
    }
   ],
   "source": [
    "tree_clf.score(X_train,y_train)"
   ]
  },
  {
   "cell_type": "code",
   "execution_count": 37,
   "metadata": {
    "scrolled": true
   },
   "outputs": [
    {
     "data": {
      "text/plain": [
       "0.7714311932728244"
      ]
     },
     "execution_count": 37,
     "metadata": {},
     "output_type": "execute_result"
    }
   ],
   "source": [
    "tree_clf.score(X_test, y_test)"
   ]
  },
  {
   "cell_type": "code",
   "execution_count": 38,
   "metadata": {},
   "outputs": [
    {
     "data": {
      "text/plain": [
       "36"
      ]
     },
     "execution_count": 38,
     "metadata": {},
     "output_type": "execute_result"
    }
   ],
   "source": [
    "tree_clf.get_depth()"
   ]
  },
  {
   "cell_type": "markdown",
   "metadata": {},
   "source": [
    "Set some limitations"
   ]
  },
  {
   "cell_type": "code",
   "execution_count": 39,
   "metadata": {},
   "outputs": [],
   "source": [
    "tree_clf2 = DecisionTreeClassifier(max_depth= 10,min_samples_leaf = 10, min_samples_split= 50 )"
   ]
  },
  {
   "cell_type": "code",
   "execution_count": 41,
   "metadata": {},
   "outputs": [
    {
     "data": {
      "text/plain": [
       "DecisionTreeClassifier(class_weight=None, criterion='gini', max_depth=10,\n",
       "                       max_features=None, max_leaf_nodes=None,\n",
       "                       min_impurity_decrease=0.0, min_impurity_split=None,\n",
       "                       min_samples_leaf=10, min_samples_split=50,\n",
       "                       min_weight_fraction_leaf=0.0, presort=False,\n",
       "                       random_state=None, splitter='best')"
      ]
     },
     "execution_count": 41,
     "metadata": {},
     "output_type": "execute_result"
    }
   ],
   "source": [
    "tree_clf2.fit(X_train, y_train)"
   ]
  },
  {
   "cell_type": "code",
   "execution_count": 44,
   "metadata": {},
   "outputs": [
    {
     "data": {
      "text/plain": [
       "0.426845622187092"
      ]
     },
     "execution_count": 44,
     "metadata": {},
     "output_type": "execute_result"
    }
   ],
   "source": [
    "tree_clf2.score(X_train,y_train)"
   ]
  },
  {
   "cell_type": "code",
   "execution_count": 45,
   "metadata": {},
   "outputs": [
    {
     "data": {
      "text/plain": [
       "0.4254037640149493"
      ]
     },
     "execution_count": 45,
     "metadata": {},
     "output_type": "execute_result"
    }
   ],
   "source": [
    "tree_clf2.score(X_test,y_test)"
   ]
  },
  {
   "cell_type": "markdown",
   "metadata": {},
   "source": [
    "### 6. Tree Visualization"
   ]
  },
  {
   "cell_type": "code",
   "execution_count": null,
   "metadata": {},
   "outputs": [],
   "source": [
    "dot_data = StringIO()\n",
    "tree.export_graphviz(tree_clf,out_file = dot_data,feature_names=factors,class_names=np.unique(Treedf['phone_brand'])\n",
    "                                ,filled=True, rounded=True,special_characters=True)\n",
    "graph = pydotplus.graph_from_dot_data(dot_data.getvalue().replace('helvetica','\"Microsoft YaHei\"'))\n",
    "Image(graph.create_png())"
   ]
  }
 ],
 "metadata": {
  "kernelspec": {
   "display_name": "Python 3",
   "language": "python",
   "name": "python3"
  },
  "language_info": {
   "codemirror_mode": {
    "name": "ipython",
    "version": 3
   },
   "file_extension": ".py",
   "mimetype": "text/x-python",
   "name": "python",
   "nbconvert_exporter": "python",
   "pygments_lexer": "ipython3",
   "version": "3.7.3"
  }
 },
 "nbformat": 4,
 "nbformat_minor": 2
}
